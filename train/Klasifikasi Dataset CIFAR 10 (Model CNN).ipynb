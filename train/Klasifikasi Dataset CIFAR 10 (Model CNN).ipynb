{
 "cells": [
  {
   "cell_type": "markdown",
   "metadata": {
    "id": "rF2SjfaemTam"
   },
   "source": [
    "# Klasifikasi Dataset CIFAR 10 (Model CNN)\n",
    "\n",
    "Contoh Deloyment untuk Domain Computer Vision (CV) <br>\n",
    "Orbit Future Academy - AI Mastery - KM Batch 3 <br>\n",
    "Tim Deployment dan Tim CV<br>\n",
    "2022"
   ]
  },
  {
   "cell_type": "markdown",
   "metadata": {
    "id": "arKksNeemTap"
   },
   "source": [
    "## Modules dan Packages"
   ]
  },
  {
   "cell_type": "code",
   "execution_count": null,
   "metadata": {},
   "outputs": [],
   "source": [
    "import numpy as np\n",
    "import matplotlib.pyplot as plt\n",
    "import tensorflow as tf\n",
    "import tensorflow.keras\n",
    "from tensorflow.keras import backend as K\n",
    "import tensorflow.keras.utils\n",
    "import ssl\n",
    "from tensorflow.keras.datasets import cifar10\n",
    "from tensorflow.keras.models import Sequential\n",
    "from tensorflow.keras.layers import Conv2D, MaxPooling2D, Flatten, Dense, Activation, Dropout,LeakyReLU\n",
    "from sklearn.metrics import confusion_matrix, accuracy_score\n",
    "\n",
    "%matplotlib inline\n",
    "K.clear_session()"
   ]
  },
  {
   "cell_type": "markdown",
   "metadata": {
    "id": "XFzP_hLQmTa7"
   },
   "source": [
    "## Import Data"
   ]
  },
  {
   "cell_type": "code",
   "execution_count": null,
   "metadata": {},
   "outputs": [],
   "source": [
    "ssl._create_default_https_context = ssl._create_unverified_context"
   ]
  },
  {
   "cell_type": "code",
   "execution_count": null,
   "metadata": {
    "id": "QxoLKqETmTa7"
   },
   "outputs": [],
   "source": [
    "(x_train, y_train), (x_test, y_test) = cifar10.load_data()"
   ]
  },
  {
   "cell_type": "code",
   "execution_count": null,
   "metadata": {
    "id": "3Sc4kc_AmTbB"
   },
   "outputs": [],
   "source": [
    "NUM_CLASSES = 10\n",
    "cifar10_classes = [\"airplane\", \"automobile\", \"bird\", \"cat\", \"deer\", \n",
    "                   \"dog\", \"frog\", \"horse\", \"ship\", \"truck\"]"
   ]
  },
  {
   "cell_type": "markdown",
   "metadata": {},
   "source": [
    "## Exploratory Data Analysis (EDA)"
   ]
  },
  {
   "cell_type": "code",
   "execution_count": null,
   "metadata": {
    "colab": {
     "base_uri": "https://localhost:8080/",
     "height": 52
    },
    "id": "trqzwsNRmTa_",
    "outputId": "287caa92-9d79-4da1-8144-1f2dc55a7682"
   },
   "outputs": [],
   "source": [
    "print(\"Train samples:\", x_train.shape, y_train.shape)\n",
    "print(\"Test samples:\", x_test.shape, y_test.shape)"
   ]
  },
  {
   "cell_type": "code",
   "execution_count": null,
   "metadata": {
    "colab": {
     "base_uri": "https://localhost:8080/",
     "height": 271
    },
    "id": "xGKudETvmTbD",
    "outputId": "6cc98462-7e51-4ac4-cd8a-a7e9d7615654"
   },
   "outputs": [],
   "source": [
    "# Menampilkan Gambar pada Dataset Latih\n",
    "cols = 8\n",
    "rows = 2\n",
    "fig = plt.figure(figsize=(2 * cols - 1, 2.5 * rows - 1))\n",
    "for i in range(cols):\n",
    "    for j in range(rows):\n",
    "        random_index = np.random.randint(0, len(y_train))\n",
    "        ax = fig.add_subplot(rows, cols, i * rows + j + 1)\n",
    "        ax.grid('off')\n",
    "        ax.axis('off')\n",
    "        ax.imshow(x_train[random_index, :])\n",
    "        ax.set_title(cifar10_classes[y_train[random_index, 0]])\n",
    "plt.show()"
   ]
  },
  {
   "cell_type": "markdown",
   "metadata": {
    "id": "o6EcZw7ImTbF"
   },
   "source": [
    "## Menyiapkan Data"
   ]
  },
  {
   "cell_type": "markdown",
   "metadata": {
    "id": "_DVDU3f1mTbG"
   },
   "source": [
    "Kita akan melakukan normalisasi data input seperti berikut : $$x_{norm} = \\frac{x}{255} - 0.5$$\n",
    "\n",
    "Kita perlu melakukan konversi label kelas menjadi one-hot encoded vectors. Silahkan gunakan __keras.utils.to_categorical__."
   ]
  },
  {
   "cell_type": "code",
   "execution_count": null,
   "metadata": {
    "id": "M76YDEUCmTbH"
   },
   "outputs": [],
   "source": [
    "# Normalisasi Input\n",
    "x_train2 = (x_train / 255) - 0.5\n",
    "x_test2  = (x_test / 255) - 0.5\n",
    "\n",
    "# Mengkonversi Label Class menjadi One-Hot Encoded\n",
    "y_train2 = tensorflow.keras.utils.to_categorical(y_train, NUM_CLASSES)\n",
    "y_test2  = tensorflow.keras.utils.to_categorical(y_test, NUM_CLASSES)"
   ]
  },
  {
   "cell_type": "markdown",
   "metadata": {
    "id": "LYb3mz1_mTbI"
   },
   "source": [
    "## Membuat Arsitektur Model CNN "
   ]
  },
  {
   "cell_type": "code",
   "execution_count": null,
   "metadata": {
    "id": "aA4uodytmTbM"
   },
   "outputs": [],
   "source": [
    "def make_model():\n",
    "    model = Sequential()\n",
    "    model.add(Conv2D(16, (3, 3), input_shape=(32, 32, 3), padding='same'))\n",
    "    model.add(LeakyReLU(0.1))\n",
    "    model.add(Conv2D(32, (3, 3), padding='same'))\n",
    "    model.add(LeakyReLU(0.1))\n",
    "    model.add(MaxPooling2D(pool_size=(2, 2)))\n",
    "    model.add(Dropout(0.25))\n",
    "    model.add(Conv2D(32, (3, 3), padding='same'))\n",
    "    model.add(LeakyReLU(0.1))\n",
    "    model.add(Conv2D(64, (3, 3), padding='same'))\n",
    "    model.add(LeakyReLU(0.1))\n",
    "    model.add(MaxPooling2D(pool_size=(2, 2)))\n",
    "    model.add(Dropout(0.25))\n",
    "    model.add(Flatten())\n",
    "    model.add(Dense(256))\n",
    "    model.add(LeakyReLU(0.1))\n",
    "    model.add(Dropout(0.5))\n",
    "    model.add(Dense(10, activation='softmax'))\n",
    "\n",
    "    return model"
   ]
  },
  {
   "cell_type": "code",
   "execution_count": null,
   "metadata": {
    "colab": {
     "base_uri": "https://localhost:8080/",
     "height": 797
    },
    "id": "Fx9gjOKbmTbO",
    "outputId": "2434ecfe-6416-4820-b474-4b2dac771da7"
   },
   "outputs": [],
   "source": [
    "model = make_model()\n",
    "model.summary()"
   ]
  },
  {
   "cell_type": "markdown",
   "metadata": {
    "id": "kZV6avMYmTbV"
   },
   "source": [
    "# Train model"
   ]
  },
  {
   "cell_type": "code",
   "execution_count": null,
   "metadata": {
    "id": "4l4lAhp4mTbZ"
   },
   "outputs": [],
   "source": [
    "INIT_LR    = 5e-3  \n",
    "BATCH_SIZE = 32\n",
    "EPOCHS     = 10\n",
    "\n",
    "model = make_model() \n",
    "\n",
    "model.compile(\n",
    "    loss      = 'categorical_crossentropy', \n",
    "    optimizer = tensorflow.keras.optimizers.Adamax(lr=INIT_LR), \n",
    "    metrics   = ['accuracy'] \n",
    ")"
   ]
  },
  {
   "cell_type": "code",
   "execution_count": null,
   "metadata": {
    "colab": {
     "base_uri": "https://localhost:8080/",
     "height": 1071
    },
    "id": "Iy5XYkYImTbe",
    "outputId": "b78512b3-d027-499a-8496-1988f28e04d7"
   },
   "outputs": [],
   "source": [
    "model.fit(\n",
    "    x_train2,\n",
    "    y_train2,  \n",
    "    batch_size      = BATCH_SIZE,\n",
    "    epochs          = EPOCHS,\n",
    "    validation_data = (x_test2, y_test2),\n",
    "    shuffle         = True,\n",
    "    verbose         = 1,\n",
    ")"
   ]
  },
  {
   "cell_type": "markdown",
   "metadata": {},
   "source": [
    "## Prediksi"
   ]
  },
  {
   "cell_type": "code",
   "execution_count": null,
   "metadata": {},
   "outputs": [],
   "source": [
    "# Prediksi untuk Data Latih\n",
    "y_pred_train            = model.predict_proba(x_train2)\n",
    "y_pred_train_classes    = np.argmax(y_pred_train, axis=1)\n",
    "y_pred_train_max_probas = np.max(y_pred_train, axis=1)"
   ]
  },
  {
   "cell_type": "code",
   "execution_count": null,
   "metadata": {
    "colab": {
     "base_uri": "https://localhost:8080/",
     "height": 35
    },
    "id": "zkZ1sZVTmTbj",
    "outputId": "52218156-ec73-4f08-aefc-dcb88dd49b23"
   },
   "outputs": [],
   "source": [
    "# Prediksi untuk Data Uji\n",
    "y_pred_test            = model.predict_proba(x_test2)\n",
    "y_pred_test_classes    = np.argmax(y_pred_test, axis=1)\n",
    "y_pred_test_max_probas = np.max(y_pred_test, axis=1)"
   ]
  },
  {
   "cell_type": "code",
   "execution_count": null,
   "metadata": {},
   "outputs": [],
   "source": [
    "# Menampilkan Hasil Prediksi untuk Data Latih\n",
    "cols = 8\n",
    "rows = 2\n",
    "fig = plt.figure(figsize=(2 * cols - 1, 3 * rows - 1))\n",
    "for i in range(cols):\n",
    "    for j in range(rows):\n",
    "        random_index = np.random.randint(0, len(y_train))\n",
    "        ax = fig.add_subplot(rows, cols, i * rows + j + 1)\n",
    "        ax.grid('off')\n",
    "        ax.axis('off')\n",
    "        ax.imshow(x_train[random_index, :])\n",
    "        pred_label = cifar10_classes[y_pred_train_classes[random_index]]\n",
    "        pred_proba = y_pred_train_max_probas[random_index]\n",
    "        true_label = cifar10_classes[y_train[random_index, 0]]\n",
    "        ax.set_title(\"pred: {}\\nscore: {:.3}\\ntrue: {}\".format(\n",
    "               pred_label, pred_proba, true_label\n",
    "        ))\n",
    "plt.show()"
   ]
  },
  {
   "cell_type": "code",
   "execution_count": null,
   "metadata": {
    "colab": {
     "base_uri": "https://localhost:8080/",
     "height": 328
    },
    "id": "Z8tyAADImTbr",
    "outputId": "61c483df-22bd-4811-d72b-cb1bb34097f4"
   },
   "outputs": [],
   "source": [
    "# Menampilkan Hasil Prediksi untuk Data Uji\n",
    "cols = 8\n",
    "rows = 2\n",
    "fig = plt.figure(figsize=(2 * cols - 1, 3 * rows - 1))\n",
    "for i in range(cols):\n",
    "    for j in range(rows):\n",
    "        random_index = np.random.randint(0, len(y_test))\n",
    "        ax = fig.add_subplot(rows, cols, i * rows + j + 1)\n",
    "        ax.grid('off')\n",
    "        ax.axis('off')\n",
    "        ax.imshow(x_test[random_index, :])\n",
    "        pred_label = cifar10_classes[y_pred_test_classes[random_index]]\n",
    "        pred_proba = y_pred_test_max_probas[random_index]\n",
    "        true_label = cifar10_classes[y_test[random_index, 0]]\n",
    "        ax.set_title(\"pred: {}\\nscore: {:.3}\\ntrue: {}\".format(\n",
    "               pred_label, pred_proba, true_label\n",
    "        ))\n",
    "plt.show()"
   ]
  },
  {
   "cell_type": "markdown",
   "metadata": {
    "id": "7pzBTeZHmTbj"
   },
   "source": [
    "## Evaluate model"
   ]
  },
  {
   "cell_type": "code",
   "execution_count": null,
   "metadata": {},
   "outputs": [],
   "source": [
    "# Confusion Matrix dan Akurasi untuk Data Latih\n",
    "plt.figure(figsize=(7, 6))\n",
    "plt.title('Confusion Matrix', fontsize=16)\n",
    "plt.imshow(confusion_matrix(y_train, y_pred_train_classes))\n",
    "plt.xticks(np.arange(10), cifar10_classes, rotation=45, fontsize=12)\n",
    "plt.yticks(np.arange(10), cifar10_classes, fontsize=12)\n",
    "plt.colorbar()\n",
    "plt.show()\n",
    "\n",
    "print(\"Train Accuracy:\", accuracy_score(y_train, y_pred_train_classes))"
   ]
  },
  {
   "cell_type": "code",
   "execution_count": null,
   "metadata": {
    "colab": {
     "base_uri": "https://localhost:8080/",
     "height": 435
    },
    "id": "G3znKLsvmTbl",
    "outputId": "241cd7ac-ab33-4cd5-b2c0-1a04cbcf0b37"
   },
   "outputs": [],
   "source": [
    "# Confusion Matrix dan Akurasi untuk Data Uji\n",
    "plt.figure(figsize=(7, 6))\n",
    "plt.title('Confusion Matrix', fontsize=16)\n",
    "plt.imshow(confusion_matrix(y_test, y_pred_test_classes))\n",
    "plt.xticks(np.arange(10), cifar10_classes, rotation=45, fontsize=12)\n",
    "plt.yticks(np.arange(10), cifar10_classes, fontsize=12)\n",
    "plt.colorbar()\n",
    "plt.show()\n",
    "\n",
    "print(\"Test Accuracy:\", accuracy_score(y_test, y_pred_test_classes))"
   ]
  },
  {
   "cell_type": "markdown",
   "metadata": {},
   "source": [
    "## Menyimpan Model"
   ]
  },
  {
   "cell_type": "code",
   "execution_count": null,
   "metadata": {
    "id": "_4l5DPT4mTbf"
   },
   "outputs": [],
   "source": [
    "model.save_weights(\"model_cifar10_cnn_tf.h5\")"
   ]
  }
 ],
 "metadata": {
  "colab": {
   "name": "CNN on CIFAR-10.ipynb",
   "provenance": []
  },
  "kernelspec": {
   "display_name": "tf_env",
   "language": "python",
   "name": "tf_env"
  },
  "language_info": {
   "codemirror_mode": {
    "name": "ipython",
    "version": 3
   },
   "file_extension": ".py",
   "mimetype": "text/x-python",
   "name": "python",
   "nbconvert_exporter": "python",
   "pygments_lexer": "ipython3",
   "version": "3.8.5"
  }
 },
 "nbformat": 4,
 "nbformat_minor": 1
}
